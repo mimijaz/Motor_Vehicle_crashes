{
 "cells": [
  {
   "cell_type": "code",
   "execution_count": 39,
   "id": "ea8bb166-4b89-4e78-8b4d-396ef114070c",
   "metadata": {},
   "outputs": [],
   "source": [
    "import pandas as pd"
   ]
  },
  {
   "cell_type": "code",
   "execution_count": 40,
   "id": "6bf3140b-f25e-4f58-a785-30c6a98c51b3",
   "metadata": {},
   "outputs": [],
   "source": [
    "#Import data\n",
    "df = pd.read_csv('Downloads/All+course+files/All course files/ChatGPT Section//Motor_Vehicle_Collisions_-_Crashes.csv') "
   ]
  },
  {
   "cell_type": "code",
   "execution_count": 41,
   "id": "3af1e49d-671f-4e78-a5f9-cb6d4cf84f05",
   "metadata": {},
   "outputs": [
    {
     "data": {
      "text/html": [
       "<div>\n",
       "<style scoped>\n",
       "    .dataframe tbody tr th:only-of-type {\n",
       "        vertical-align: middle;\n",
       "    }\n",
       "\n",
       "    .dataframe tbody tr th {\n",
       "        vertical-align: top;\n",
       "    }\n",
       "\n",
       "    .dataframe thead th {\n",
       "        text-align: right;\n",
       "    }\n",
       "</style>\n",
       "<table border=\"1\" class=\"dataframe\">\n",
       "  <thead>\n",
       "    <tr style=\"text-align: right;\">\n",
       "      <th></th>\n",
       "      <th>CRASH DATE</th>\n",
       "      <th>CRASH TIME</th>\n",
       "      <th>BOROUGH</th>\n",
       "      <th>ZIP CODE</th>\n",
       "      <th>LATITUDE</th>\n",
       "      <th>LONGITUDE</th>\n",
       "      <th>LOCATION</th>\n",
       "      <th>ON STREET NAME</th>\n",
       "      <th>CROSS STREET NAME</th>\n",
       "      <th>OFF STREET NAME</th>\n",
       "      <th>...</th>\n",
       "      <th>CONTRIBUTING FACTOR VEHICLE 2</th>\n",
       "      <th>CONTRIBUTING FACTOR VEHICLE 3</th>\n",
       "      <th>CONTRIBUTING FACTOR VEHICLE 4</th>\n",
       "      <th>CONTRIBUTING FACTOR VEHICLE 5</th>\n",
       "      <th>COLLISION_ID</th>\n",
       "      <th>VEHICLE TYPE CODE 1</th>\n",
       "      <th>VEHICLE TYPE CODE 2</th>\n",
       "      <th>VEHICLE TYPE CODE 3</th>\n",
       "      <th>VEHICLE TYPE CODE 4</th>\n",
       "      <th>VEHICLE TYPE CODE 5</th>\n",
       "    </tr>\n",
       "  </thead>\n",
       "  <tbody>\n",
       "    <tr>\n",
       "      <th>0</th>\n",
       "      <td>11/09/2021</td>\n",
       "      <td>2:39</td>\n",
       "      <td>NaN</td>\n",
       "      <td>NaN</td>\n",
       "      <td>NaN</td>\n",
       "      <td>NaN</td>\n",
       "      <td>NaN</td>\n",
       "      <td>WHITESTONE EXPRESSWAY</td>\n",
       "      <td>20 AVENUE</td>\n",
       "      <td>NaN</td>\n",
       "      <td>...</td>\n",
       "      <td>Unspecified</td>\n",
       "      <td>NaN</td>\n",
       "      <td>NaN</td>\n",
       "      <td>NaN</td>\n",
       "      <td>4455765</td>\n",
       "      <td>Sedan</td>\n",
       "      <td>Sedan</td>\n",
       "      <td>NaN</td>\n",
       "      <td>NaN</td>\n",
       "      <td>NaN</td>\n",
       "    </tr>\n",
       "    <tr>\n",
       "      <th>1</th>\n",
       "      <td>26/03/2022</td>\n",
       "      <td>11:45</td>\n",
       "      <td>NaN</td>\n",
       "      <td>NaN</td>\n",
       "      <td>NaN</td>\n",
       "      <td>NaN</td>\n",
       "      <td>NaN</td>\n",
       "      <td>QUEENSBORO BRIDGE UPPER</td>\n",
       "      <td>NaN</td>\n",
       "      <td>NaN</td>\n",
       "      <td>...</td>\n",
       "      <td>NaN</td>\n",
       "      <td>NaN</td>\n",
       "      <td>NaN</td>\n",
       "      <td>NaN</td>\n",
       "      <td>4513547</td>\n",
       "      <td>Sedan</td>\n",
       "      <td>NaN</td>\n",
       "      <td>NaN</td>\n",
       "      <td>NaN</td>\n",
       "      <td>NaN</td>\n",
       "    </tr>\n",
       "    <tr>\n",
       "      <th>2</th>\n",
       "      <td>29/06/2022</td>\n",
       "      <td>6:55</td>\n",
       "      <td>NaN</td>\n",
       "      <td>NaN</td>\n",
       "      <td>NaN</td>\n",
       "      <td>NaN</td>\n",
       "      <td>NaN</td>\n",
       "      <td>THROGS NECK BRIDGE</td>\n",
       "      <td>NaN</td>\n",
       "      <td>NaN</td>\n",
       "      <td>...</td>\n",
       "      <td>Unspecified</td>\n",
       "      <td>NaN</td>\n",
       "      <td>NaN</td>\n",
       "      <td>NaN</td>\n",
       "      <td>4541903</td>\n",
       "      <td>Sedan</td>\n",
       "      <td>Pick-up Truck</td>\n",
       "      <td>NaN</td>\n",
       "      <td>NaN</td>\n",
       "      <td>NaN</td>\n",
       "    </tr>\n",
       "    <tr>\n",
       "      <th>3</th>\n",
       "      <td>11/09/2021</td>\n",
       "      <td>9:35</td>\n",
       "      <td>BROOKLYN</td>\n",
       "      <td>11208.0</td>\n",
       "      <td>40.667202</td>\n",
       "      <td>-73.866500</td>\n",
       "      <td>(40.667202, -73.8665)</td>\n",
       "      <td>NaN</td>\n",
       "      <td>NaN</td>\n",
       "      <td>1211      LORING AVENUE</td>\n",
       "      <td>...</td>\n",
       "      <td>NaN</td>\n",
       "      <td>NaN</td>\n",
       "      <td>NaN</td>\n",
       "      <td>NaN</td>\n",
       "      <td>4456314</td>\n",
       "      <td>Sedan</td>\n",
       "      <td>NaN</td>\n",
       "      <td>NaN</td>\n",
       "      <td>NaN</td>\n",
       "      <td>NaN</td>\n",
       "    </tr>\n",
       "    <tr>\n",
       "      <th>4</th>\n",
       "      <td>14/12/2021</td>\n",
       "      <td>8:13</td>\n",
       "      <td>BROOKLYN</td>\n",
       "      <td>11233.0</td>\n",
       "      <td>40.683304</td>\n",
       "      <td>-73.917274</td>\n",
       "      <td>(40.683304, -73.917274)</td>\n",
       "      <td>SARATOGA AVENUE</td>\n",
       "      <td>DECATUR STREET</td>\n",
       "      <td>NaN</td>\n",
       "      <td>...</td>\n",
       "      <td>NaN</td>\n",
       "      <td>NaN</td>\n",
       "      <td>NaN</td>\n",
       "      <td>NaN</td>\n",
       "      <td>4486609</td>\n",
       "      <td>NaN</td>\n",
       "      <td>NaN</td>\n",
       "      <td>NaN</td>\n",
       "      <td>NaN</td>\n",
       "      <td>NaN</td>\n",
       "    </tr>\n",
       "  </tbody>\n",
       "</table>\n",
       "<p>5 rows × 29 columns</p>\n",
       "</div>"
      ],
      "text/plain": [
       "   CRASH DATE CRASH TIME   BOROUGH  ZIP CODE   LATITUDE  LONGITUDE  \\\n",
       "0  11/09/2021       2:39       NaN       NaN        NaN        NaN   \n",
       "1  26/03/2022      11:45       NaN       NaN        NaN        NaN   \n",
       "2  29/06/2022       6:55       NaN       NaN        NaN        NaN   \n",
       "3  11/09/2021       9:35  BROOKLYN   11208.0  40.667202 -73.866500   \n",
       "4  14/12/2021       8:13  BROOKLYN   11233.0  40.683304 -73.917274   \n",
       "\n",
       "                  LOCATION           ON STREET NAME CROSS STREET NAME  \\\n",
       "0                      NaN    WHITESTONE EXPRESSWAY         20 AVENUE   \n",
       "1                      NaN  QUEENSBORO BRIDGE UPPER               NaN   \n",
       "2                      NaN       THROGS NECK BRIDGE               NaN   \n",
       "3    (40.667202, -73.8665)                      NaN               NaN   \n",
       "4  (40.683304, -73.917274)          SARATOGA AVENUE    DECATUR STREET   \n",
       "\n",
       "           OFF STREET NAME  ...  CONTRIBUTING FACTOR VEHICLE 2  \\\n",
       "0                      NaN  ...                    Unspecified   \n",
       "1                      NaN  ...                            NaN   \n",
       "2                      NaN  ...                    Unspecified   \n",
       "3  1211      LORING AVENUE  ...                            NaN   \n",
       "4                      NaN  ...                            NaN   \n",
       "\n",
       "   CONTRIBUTING FACTOR VEHICLE 3  CONTRIBUTING FACTOR VEHICLE 4  \\\n",
       "0                            NaN                            NaN   \n",
       "1                            NaN                            NaN   \n",
       "2                            NaN                            NaN   \n",
       "3                            NaN                            NaN   \n",
       "4                            NaN                            NaN   \n",
       "\n",
       "   CONTRIBUTING FACTOR VEHICLE 5  COLLISION_ID  VEHICLE TYPE CODE 1  \\\n",
       "0                            NaN       4455765                Sedan   \n",
       "1                            NaN       4513547                Sedan   \n",
       "2                            NaN       4541903                Sedan   \n",
       "3                            NaN       4456314                Sedan   \n",
       "4                            NaN       4486609                  NaN   \n",
       "\n",
       "   VEHICLE TYPE CODE 2  VEHICLE TYPE CODE 3 VEHICLE TYPE CODE 4  \\\n",
       "0                Sedan                  NaN                 NaN   \n",
       "1                  NaN                  NaN                 NaN   \n",
       "2        Pick-up Truck                  NaN                 NaN   \n",
       "3                  NaN                  NaN                 NaN   \n",
       "4                  NaN                  NaN                 NaN   \n",
       "\n",
       "  VEHICLE TYPE CODE 5  \n",
       "0                 NaN  \n",
       "1                 NaN  \n",
       "2                 NaN  \n",
       "3                 NaN  \n",
       "4                 NaN  \n",
       "\n",
       "[5 rows x 29 columns]"
      ]
     },
     "execution_count": 41,
     "metadata": {},
     "output_type": "execute_result"
    }
   ],
   "source": [
    "# Display the first 5 rows\n",
    "df.head()"
   ]
  },
  {
   "cell_type": "markdown",
   "id": "646e4695-f65c-4570-8d12-479b7a636a21",
   "metadata": {},
   "source": [
    "### Explore the Data"
   ]
  },
  {
   "cell_type": "code",
   "execution_count": 43,
   "id": "93d690c5-13f4-4884-b75c-4be4c852bd0f",
   "metadata": {},
   "outputs": [
    {
     "name": "stdout",
     "output_type": "stream",
     "text": [
      "<class 'pandas.core.frame.DataFrame'>\n",
      "RangeIndex: 179921 entries, 0 to 179920\n",
      "Data columns (total 29 columns):\n",
      " #   Column                         Non-Null Count   Dtype  \n",
      "---  ------                         --------------   -----  \n",
      " 0   CRASH DATE                     179921 non-null  object \n",
      " 1   CRASH TIME                     179921 non-null  object \n",
      " 2   BOROUGH                        118160 non-null  object \n",
      " 3   ZIP CODE                       118137 non-null  float64\n",
      " 4   LATITUDE                       164788 non-null  float64\n",
      " 5   LONGITUDE                      164788 non-null  float64\n",
      " 6   LOCATION                       164788 non-null  object \n",
      " 7   ON STREET NAME                 130909 non-null  object \n",
      " 8   CROSS STREET NAME              83247 non-null   object \n",
      " 9   OFF STREET NAME                49010 non-null   object \n",
      " 10  NUMBER OF PERSONS INJURED      179920 non-null  float64\n",
      " 11  NUMBER OF PERSONS KILLED       179921 non-null  int64  \n",
      " 12  NUMBER OF PEDESTRIANS INJURED  179921 non-null  int64  \n",
      " 13  NUMBER OF PEDESTRIANS KILLED   179921 non-null  int64  \n",
      " 14  NUMBER OF CYCLIST INJURED      179921 non-null  int64  \n",
      " 15  NUMBER OF CYCLIST KILLED       179921 non-null  int64  \n",
      " 16  NUMBER OF MOTORIST INJURED     179921 non-null  int64  \n",
      " 17  NUMBER OF MOTORIST KILLED      179921 non-null  int64  \n",
      " 18  CONTRIBUTING FACTOR VEHICLE 1  179017 non-null  object \n",
      " 19  CONTRIBUTING FACTOR VEHICLE 2  138963 non-null  object \n",
      " 20  CONTRIBUTING FACTOR VEHICLE 3  18150 non-null   object \n",
      " 21  CONTRIBUTING FACTOR VEHICLE 4  4933 non-null    object \n",
      " 22  CONTRIBUTING FACTOR VEHICLE 5  1490 non-null    object \n",
      " 23  COLLISION_ID                   179921 non-null  int64  \n",
      " 24  VEHICLE TYPE CODE 1            177754 non-null  object \n",
      " 25  VEHICLE TYPE CODE 2            119747 non-null  object \n",
      " 26  VEHICLE TYPE CODE 3            16869 non-null   object \n",
      " 27  VEHICLE TYPE CODE 4            4668 non-null    object \n",
      " 28  VEHICLE TYPE CODE 5            1439 non-null    object \n",
      "dtypes: float64(4), int64(8), object(17)\n",
      "memory usage: 39.8+ MB\n"
     ]
    }
   ],
   "source": [
    "# Get basic info about the dataset\n",
    "df.info()"
   ]
  },
  {
   "cell_type": "code",
   "execution_count": 44,
   "id": "bacab7b8-6733-4368-8cbd-fb42dfa1c320",
   "metadata": {},
   "outputs": [],
   "source": [
    "import pandas as pd\n",
    "\n",
    "# Convert 'CRASH DATE' and 'CRASH TIME' to datetime\n",
    "df['CRASH DATE'] = pd.to_datetime(df['CRASH DATE'], dayfirst=True)\n",
    "df['CRASH TIME'] = pd.to_datetime(df['CRASH TIME'], format='%H:%M').dt.time  # Keep only time\n",
    "\n",
    "# Combine 'CRASH DATE' and 'CRASH TIME' into a single datetime column\n",
    "df['CRASH DATETIME'] = pd.to_datetime(df['CRASH DATE'].astype(str) + ' ' + df['CRASH TIME'].astype(str))\n",
    "\n",
    "# Convert 'ZIP CODE' to string (handling NaN values properly)\n",
    "df['ZIP CODE'] = df['ZIP CODE'].fillna('').astype(str)\n",
    "\n",
    "# Extract useful time-based features\n",
    "df['DAY OF WEEK'] = df['CRASH DATETIME'].dt.dayofweek  # 0=Monday, 6=Sunday\n",
    "df['MONTH'] = df['CRASH DATETIME'].dt.month\n",
    "df['YEAR'] = df['CRASH DATETIME'].dt.year\n",
    "df['HOUR'] = df['CRASH DATETIME'].dt.hour\n",
    "\n",
    "# Create 'DAY/NIGHT' column based on time of crash\n",
    "df['DAY/NIGHT'] = df['HOUR'].apply(lambda x: 'Day' if 6 <= x < 18 else 'Night')"
   ]
  },
  {
   "cell_type": "code",
   "execution_count": 45,
   "id": "a9922cb2-700d-40dc-b176-25eee1bb87ce",
   "metadata": {},
   "outputs": [],
   "source": [
    "df = df.drop(columns=[\n",
    "    'VEHICLE TYPE CODE 3',  \n",
    "    'VEHICLE TYPE CODE 4',  \n",
    "    'VEHICLE TYPE CODE 5',\n",
    "    'CONTRIBUTING FACTOR VEHICLE 3',  \n",
    "    'CONTRIBUTING FACTOR VEHICLE 4',  \n",
    "    'CONTRIBUTING FACTOR VEHICLE 5'  \n",
    "])\n"
   ]
  },
  {
   "cell_type": "code",
   "execution_count": 46,
   "id": "721bb90c-f556-45f5-bece-3e7cf0443055",
   "metadata": {},
   "outputs": [],
   "source": [
    "# Remove duplicates\n",
    "df.drop_duplicates(inplace = True)"
   ]
  },
  {
   "cell_type": "code",
   "execution_count": 65,
   "id": "d3707079-a5fb-4dd9-83ef-2ed2cd3bdd81",
   "metadata": {},
   "outputs": [
    {
     "name": "stdout",
     "output_type": "stream",
     "text": [
      "CRASH DATE                                2021-09-11 00:00:00\n",
      "CRASH TIME                                           02:39:00\n",
      "BOROUGH                                                   NaN\n",
      "ZIP CODE                                                     \n",
      "LATITUDE                                                  NaN\n",
      "LONGITUDE                                                 NaN\n",
      "LOCATION                                                  NaN\n",
      "ON STREET NAME                          WHITESTONE EXPRESSWAY\n",
      "CROSS STREET NAME                                   20 AVENUE\n",
      "OFF STREET NAME                                           NaN\n",
      "NUMBER OF PERSONS INJURED                                 2.0\n",
      "NUMBER OF PERSONS KILLED                                    0\n",
      "NUMBER OF PEDESTRIANS INJURED                               0\n",
      "NUMBER OF PEDESTRIANS KILLED                                0\n",
      "NUMBER OF CYCLIST INJURED                                   0\n",
      "NUMBER OF CYCLIST KILLED                                    0\n",
      "NUMBER OF MOTORIST INJURED                                  2\n",
      "NUMBER OF MOTORIST KILLED                                   0\n",
      "CONTRIBUTING FACTOR VEHICLE 1    Aggressive Driving/Road Rage\n",
      "CONTRIBUTING FACTOR VEHICLE 2                     Unspecified\n",
      "COLLISION_ID                                          4455765\n",
      "VEHICLE TYPE CODE 1                                     Sedan\n",
      "VEHICLE TYPE CODE 2                                     Sedan\n",
      "CRASH DATETIME                            2021-09-11 02:39:00\n",
      "DAY OF WEEK                                                 5\n",
      "MONTH                                                       9\n",
      "YEAR                                                     2021\n",
      "HOUR                                                        2\n",
      "DAY/NIGHT                                               Night\n",
      "Name: 0, dtype: object\n"
     ]
    }
   ],
   "source": [
    "# Displaying all columns and their values for the first record\n",
    "first_record = df.iloc[0]\n",
    "print(first_record)"
   ]
  },
  {
   "cell_type": "code",
   "execution_count": 67,
   "id": "db1e69a0-1953-4491-a089-38bd5b64e4e4",
   "metadata": {},
   "outputs": [
    {
     "data": {
      "text/plain": [
       "<Axes: title={'center': 'Crashes Per Day of the Week'}, xlabel='DAY OF WEEK'>"
      ]
     },
     "execution_count": 67,
     "metadata": {},
     "output_type": "execute_result"
    },
    {
     "data": {
      "image/png": "[encoded data removed]",
      "text/plain": [
       "<Figure size 640x480 with 1 Axes>"
      ]
     },
     "metadata": {},
     "output_type": "display_data"
    }
   ],
   "source": [
    "#Temporal Analysis\n",
    "#Crash Frequency by Year, Month, and Day of the Week\n",
    "#Find trends in crashes over time. Are they increasing or decreasing?\n",
    "#Identify the months and days with the highest number of crashes.\n",
    "\n",
    "df.groupby('YEAR').size().plot(kind='bar', title='Crashes Per Year')\n",
    "df.groupby('MONTH').size().plot(kind='bar', title='Crashes Per Month')\n",
    "df.groupby('DAY OF WEEK').size().plot(kind='bar', title='Crashes Per Day of the Week')"
   ]
  },
  {
   "cell_type": "code",
   "execution_count": 71,
   "id": "5820ac4e-c9aa-4cb4-aa69-85ca593f8c7e",
   "metadata": {},
   "outputs": [
    {
     "data": {
      "text/plain": [
       "<Axes: title={'center': 'Crashes Per Hour'}, xlabel='HOUR'>"
      ]
     },
     "execution_count": 71,
     "metadata": {},
     "output_type": "execute_result"
    },
    {
     "data": {
      "image/png": "[encoded data removed]",
      "text/plain": [
       "<Figure size 640x480 with 1 Axes>"
      ]
     },
     "metadata": {},
     "output_type": "display_data"
    }
   ],
   "source": [
    "#Hourly Crash Trends\n",
    "#When do most accidents happen?\n",
    "#Are there peak accident hours?\n",
    "\n",
    "df.groupby('HOUR').size().plot(kind='bar', title='Crashes Per Hour')"
   ]
  },
  {
   "cell_type": "code",
   "execution_count": 73,
   "id": "162b164f-e3f3-490b-b6a6-846979b45443",
   "metadata": {},
   "outputs": [
    {
     "data": {
      "text/plain": [
       "<Axes: title={'center': 'Day vs. Night Crashes'}, xlabel='DAY/NIGHT'>"
      ]
     },
     "execution_count": 73,
     "metadata": {},
     "output_type": "execute_result"
    },
    {
     "data": {
      "image/png": "[encoded data removed]",
      "text/plain": [
       "<Figure size 640x480 with 1 Axes>"
      ]
     },
     "metadata": {},
     "output_type": "display_data"
    }
   ],
   "source": [
    "df['DAY/NIGHT'].value_counts().plot(kind='bar', title='Day vs. Night Crashes')"
   ]
  },
  {
   "cell_type": "code",
   "execution_count": null,
   "id": "d581e224-6e74-4f46-9173-e25dd913d3cd",
   "metadata": {},
   "outputs": [],
   "source": []
  },
  {
   "cell_type": "code",
   "execution_count": null,
   "id": "16f3b753-74fd-4e26-b54d-81c20255e5fc",
   "metadata": {},
   "outputs": [],
   "source": []
  },
  {
   "cell_type": "code",
   "execution_count": null,
   "id": "6f335b5f-c681-4576-8315-d752b913fbfb",
   "metadata": {},
   "outputs": [],
   "source": []
  },
  {
   "cell_type": "code",
   "execution_count": null,
   "id": "54e36a3d-bf84-4cea-b83c-2994bbd3f44d",
   "metadata": {},
   "outputs": [],
   "source": []
  }
 ],
 "metadata": {
  "kernelspec": {
   "display_name": "Python [conda env:base] *",
   "language": "python",
   "name": "conda-base-py"
  },
  "language_info": {
   "codemirror_mode": {
    "name": "ipython",
    "version": 3
   },
   "file_extension": ".py",
   "mimetype": "text/x-python",
   "name": "python",
   "nbconvert_exporter": "python",
   "pygments_lexer": "ipython3",
   "version": "3.12.7"
  }
 },
 "nbformat": 4,
 "nbformat_minor": 5
}
