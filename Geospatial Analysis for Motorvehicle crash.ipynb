{
 "cells": [
  {
   "cell_type": "code",
   "execution_count": 40,
   "id": "e015cdde-0480-45b1-af81-3ea6211ac55d",
   "metadata": {},
   "outputs": [
    {
     "name": "stdout",
     "output_type": "stream",
     "text": [
      "Requirement already satisfied: pandas in /opt/anaconda3/lib/python3.12/site-packages (2.2.2)\n",
      "Requirement already satisfied: folium in /opt/anaconda3/lib/python3.12/site-packages (0.19.4)\n",
      "Requirement already satisfied: geopandas in /opt/anaconda3/lib/python3.12/site-packages (1.0.1)\n",
      "Requirement already satisfied: numpy>=1.26.0 in /opt/anaconda3/lib/python3.12/site-packages (from pandas) (1.26.4)\n",
      "Requirement already satisfied: python-dateutil>=2.8.2 in /opt/anaconda3/lib/python3.12/site-packages (from pandas) (2.9.0.post0)\n",
      "Requirement already satisfied: pytz>=2020.1 in /opt/anaconda3/lib/python3.12/site-packages (from pandas) (2024.1)\n",
      "Requirement already satisfied: tzdata>=2022.7 in /opt/anaconda3/lib/python3.12/site-packages (from pandas) (2023.3)\n",
      "Requirement already satisfied: branca>=0.6.0 in /opt/anaconda3/lib/python3.12/site-packages (from folium) (0.8.1)\n",
      "Requirement already satisfied: jinja2>=2.9 in /opt/anaconda3/lib/python3.12/site-packages (from folium) (3.1.4)\n",
      "Requirement already satisfied: requests in /opt/anaconda3/lib/python3.12/site-packages (from folium) (2.32.3)\n",
      "Requirement already satisfied: xyzservices in /opt/anaconda3/lib/python3.12/site-packages (from folium) (2022.9.0)\n",
      "Requirement already satisfied: pyogrio>=0.7.2 in /opt/anaconda3/lib/python3.12/site-packages (from geopandas) (0.10.0)\n",
      "Requirement already satisfied: packaging in /opt/anaconda3/lib/python3.12/site-packages (from geopandas) (24.1)\n",
      "Requirement already satisfied: pyproj>=3.3.0 in /opt/anaconda3/lib/python3.12/site-packages (from geopandas) (3.7.0)\n",
      "Requirement already satisfied: shapely>=2.0.0 in /opt/anaconda3/lib/python3.12/site-packages (from geopandas) (2.0.7)\n",
      "Requirement already satisfied: MarkupSafe>=2.0 in /opt/anaconda3/lib/python3.12/site-packages (from jinja2>=2.9->folium) (2.1.3)\n",
      "Requirement already satisfied: certifi in /opt/anaconda3/lib/python3.12/site-packages (from pyogrio>=0.7.2->geopandas) (2024.12.14)\n",
      "Requirement already satisfied: six>=1.5 in /opt/anaconda3/lib/python3.12/site-packages (from python-dateutil>=2.8.2->pandas) (1.16.0)\n",
      "Requirement already satisfied: charset-normalizer<4,>=2 in /opt/anaconda3/lib/python3.12/site-packages (from requests->folium) (3.3.2)\n",
      "Requirement already satisfied: idna<4,>=2.5 in /opt/anaconda3/lib/python3.12/site-packages (from requests->folium) (3.7)\n",
      "Requirement already satisfied: urllib3<3,>=1.21.1 in /opt/anaconda3/lib/python3.12/site-packages (from requests->folium) (2.2.3)\n",
      "Note: you may need to restart the kernel to use updated packages.\n"
     ]
    }
   ],
   "source": [
    "pip install pandas folium geopandas"
   ]
  },
  {
   "cell_type": "code",
   "execution_count": 41,
   "id": "6361c0aa-3400-494b-bfca-ea9b11d489b6",
   "metadata": {},
   "outputs": [],
   "source": [
    "import pandas as pd\n",
    "import folium\n",
    "from folium.plugins import HeatMap\n",
    "\n",
    "# Load dataset\n",
    "df = pd.read_csv('Downloads/All+course+files/All course files/ChatGPT Section//Motor_Vehicle_Collisions_-_Crashes.csv')"
   ]
  },
  {
   "cell_type": "code",
   "execution_count": 42,
   "id": "f0611871-f823-461a-a134-b1e19617529d",
   "metadata": {},
   "outputs": [],
   "source": [
    "# Ensure LATITUDE and LONGITUDE columns exist\n",
    "if 'LATITUDE' not in df.columns or 'LONGITUDE' not in df.columns:\n",
    "    raise ValueError(\"Dataset must contain 'LATITUDE' and 'LONGITUDE' columns!\")"
   ]
  },
  {
   "cell_type": "code",
   "execution_count": 43,
   "id": "1d22d66a-f5ce-477d-a2b0-6af256ee5976",
   "metadata": {},
   "outputs": [],
   "source": [
    "# Drop missing values\n",
    "df = df.dropna(subset=['LATITUDE', 'LONGITUDE'])"
   ]
  },
  {
   "cell_type": "code",
   "execution_count": 44,
   "id": "d1cc6961-9e6c-4139-ae6a-688d6fec05a6",
   "metadata": {},
   "outputs": [],
   "source": [
    "# Convert to float\n",
    "df.loc[:, 'LATITUDE'] = df['LATITUDE'].astype(float)\n",
    "df.loc[:, 'LONGITUDE'] = df['LONGITUDE'].astype(float)"
   ]
  },
  {
   "cell_type": "code",
   "execution_count": 45,
   "id": "433e9e01-f29b-41f6-ab17-ac19d23aa12f",
   "metadata": {},
   "outputs": [],
   "source": [
    "# Calculate the map center\n",
    "map_center = [df['LATITUDE'].mean(), df['LONGITUDE'].mean()]"
   ]
  },
  {
   "cell_type": "code",
   "execution_count": 46,
   "id": "60cad0f3-d48b-4ead-bab0-917423f15e04",
   "metadata": {},
   "outputs": [],
   "source": [
    "# Create a Folium map\n",
    "heatmap = folium.Map(location=map_center, zoom_start=10)"
   ]
  },
  {
   "cell_type": "code",
   "execution_count": 47,
   "id": "3961c2c9-c18d-4acf-908a-183d9f5d6256",
   "metadata": {},
   "outputs": [],
   "source": [
    "# Extract coordinates for the heatmap\n",
    "heat_data = df[['LATITUDE', 'LONGITUDE']].values.tolist()"
   ]
  },
  {
   "cell_type": "code",
   "execution_count": 48,
   "id": "a53e6dbe-4667-4f87-ba17-336172ca3913",
   "metadata": {},
   "outputs": [
    {
     "data": {
      "text/plain": [
       "<folium.plugins.heat_map.HeatMap at 0x1322ee090>"
      ]
     },
     "execution_count": 48,
     "metadata": {},
     "output_type": "execute_result"
    }
   ],
   "source": [
    "# Add HeatMap layer\n",
    "HeatMap(heat_data, radius=10, blur=15, min_opacity=0.3).add_to(heatmap)"
   ]
  },
  {
   "cell_type": "code",
   "execution_count": 49,
   "id": "76d736c6-6cee-45f8-9a06-aef2f57f2fff",
   "metadata": {},
   "outputs": [],
   "source": [
    "# Save map as HTML\n",
    "heatmap.save(\"accident_heatmap.html\")"
   ]
  },
  {
   "cell_type": "code",
   "execution_count": 50,
   "id": "0b7c03ea-6e6e-4734-b1b4-cc05a575f2aa",
   "metadata": {},
   "outputs": [
    {
     "name": "stdout",
     "output_type": "stream",
     "text": [
      "Heatmap saved as 'accident_heatmap.html'. Open it in a browser to view.\n"
     ]
    }
   ],
   "source": [
    "print(\"Heatmap saved as 'accident_heatmap.html'. Open it in a browser to view.\")"
   ]
  },
  {
   "cell_type": "code",
   "execution_count": null,
   "id": "ec37c80b-fcd6-4bd7-82ff-aa7745442209",
   "metadata": {},
   "outputs": [],
   "source": []
  },
  {
   "cell_type": "code",
   "execution_count": null,
   "id": "bb96bd62-7c1e-445a-9a89-f562515f12fc",
   "metadata": {},
   "outputs": [],
   "source": []
  },
  {
   "cell_type": "code",
   "execution_count": null,
   "id": "ebf46d4d-d4d3-4398-8066-4c053436ce23",
   "metadata": {},
   "outputs": [],
   "source": []
  },
  {
   "cell_type": "code",
   "execution_count": null,
   "id": "0fd259d4-9ea6-432e-b8c7-9540f884f634",
   "metadata": {},
   "outputs": [],
   "source": []
  },
  {
   "cell_type": "code",
   "execution_count": null,
   "id": "96e94023-74a7-4951-ac7a-072a34f1e512",
   "metadata": {},
   "outputs": [],
   "source": []
  },
  {
   "cell_type": "code",
   "execution_count": null,
   "id": "f669cc4e-f36a-43e6-add6-4329ec93270d",
   "metadata": {},
   "outputs": [],
   "source": []
  }
 ],
 "metadata": {
  "kernelspec": {
   "display_name": "Python [conda env:base] *",
   "language": "python",
   "name": "conda-base-py"
  },
  "language_info": {
   "codemirror_mode": {
    "name": "ipython",
    "version": 3
   },
   "file_extension": ".py",
   "mimetype": "text/x-python",
   "name": "python",
   "nbconvert_exporter": "python",
   "pygments_lexer": "ipython3",
   "version": "3.12.7"
  }
 },
 "nbformat": 4,
 "nbformat_minor": 5
}
